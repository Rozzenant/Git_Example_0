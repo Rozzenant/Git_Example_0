{
 "cells": [
  {
   "cell_type": "markdown",
   "id": "737cc523",
   "metadata": {},
   "source": [
    "# Работа с Git"
   ]
  },
  {
   "cell_type": "markdown",
   "id": "0c7eff48",
   "metadata": {},
   "source": [
    "**Инициализация Git**"
   ]
  },
  {
   "cell_type": "markdown",
   "id": "593b0599",
   "metadata": {},
   "source": [
    "`PS C:\\Users\\dmitr\\PycharmProjects\\Git_Example_0> git init`"
   ]
  },
  {
   "cell_type": "markdown",
   "id": "109a6bf4",
   "metadata": {},
   "source": [
    "После создается скрытая папка .git"
   ]
  },
  {
   "cell_type": "markdown",
   "id": "e5ad6ffd",
   "metadata": {},
   "source": [
    "**Проверка Git**"
   ]
  },
  {
   "cell_type": "markdown",
   "id": "827b69f0",
   "metadata": {},
   "source": [
    "Команда git status отображает состояние рабочего каталога и раздела проиндексированных файлов"
   ]
  },
  {
   "cell_type": "markdown",
   "id": "92f783bc",
   "metadata": {},
   "source": [
    "`PS C:\\Users\\dmitr\\PycharmProjects\\Git_Example_0> git status`"
   ]
  },
  {
   "cell_type": "markdown",
   "id": "0b603989",
   "metadata": {},
   "source": [
    "Файлы, за которыми не следит Git\\\n",
    "Untracked files:\\\n",
    "  (use \"git add <file>...\" to include in what will be committed)\\\n",
    "        ..."
   ]
  },
  {
   "cell_type": "markdown",
   "id": "8cd04eaa",
   "metadata": {},
   "source": [
    "**Добавить файл, за которым будет следить Git**"
   ]
  },
  {
   "cell_type": "markdown",
   "id": "9fb8539d",
   "metadata": {},
   "source": [
    "`PS C:\\Users\\dmitr\\PycharmProjects\\Git_Example_0> git add .\\main.py`"
   ]
  },
  {
   "cell_type": "markdown",
   "id": "401a89a7",
   "metadata": {},
   "source": [
    "**Перестать следить за файлом**"
   ]
  },
  {
   "cell_type": "markdown",
   "id": "717d9b83",
   "metadata": {},
   "source": [
    "`PS C:\\Users\\dmitr\\PycharmProjects\\Git_Example_0> get rm --cached .\\main.py`"
   ]
  },
  {
   "cell_type": "code",
   "execution_count": null,
   "id": "bdcaaa6c",
   "metadata": {},
   "outputs": [],
   "source": []
  },
  {
   "cell_type": "markdown",
   "id": "ec569b46",
   "metadata": {},
   "source": [
    "`PS C:\\Users\\dmitr\\PycharmProjects\\Git_Example_0> git commit -m \"first commit\"`"
   ]
  },
  {
   "cell_type": "markdown",
   "id": "19492b26",
   "metadata": {},
   "source": [
    "**Удалить файлы с определенным расширением**"
   ]
  },
  {
   "cell_type": "markdown",
   "id": "8ac27439",
   "metadata": {},
   "source": [
    "git rm Documentation/\\*.txt — хороший пример удаления из документации к git,\\\n",
    "удаляются сразу все файлы txt из папки."
   ]
  },
  {
   "cell_type": "code",
   "execution_count": null,
   "id": "a975c53f",
   "metadata": {},
   "outputs": [],
   "source": [
    "\n",
    "\n",
    "\n",
    "\n",
    "\n",
    "\n",
    "\n",
    "\n",
    "\n",
    "\n",
    "\n",
    "\n",
    "\n",
    "\n",
    "\n",
    "\n",
    "\n",
    "\n",
    "\n",
    "\n",
    "\n",
    "\n",
    "\n",
    "\n",
    "\n",
    "\n",
    "\n",
    "\n",
    "\n"
   ]
  }
 ],
 "metadata": {
  "kernelspec": {
   "display_name": "Python 3 (ipykernel)",
   "language": "python",
   "name": "python3"
  },
  "language_info": {
   "codemirror_mode": {
    "name": "ipython",
    "version": 3
   },
   "file_extension": ".py",
   "mimetype": "text/x-python",
   "name": "python",
   "nbconvert_exporter": "python",
   "pygments_lexer": "ipython3",
   "version": "3.10.0"
  }
 },
 "nbformat": 4,
 "nbformat_minor": 5
}
