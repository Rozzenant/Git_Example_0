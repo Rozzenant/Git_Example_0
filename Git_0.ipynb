{
 "cells": [
  {
   "cell_type": "markdown",
   "id": "2f31a589",
   "metadata": {},
   "source": [
    "# Работа с Git"
   ]
  },
  {
   "cell_type": "markdown",
   "id": "8d11cddc",
   "metadata": {},
   "source": [
    "**Инициализация Git**"
   ]
  },
  {
   "cell_type": "markdown",
   "id": "00384157",
   "metadata": {},
   "source": [
    "`PS C:\\Users\\dmitr\\PycharmProjects\\Git_Example_0> git init`"
   ]
  },
  {
   "cell_type": "markdown",
   "id": "ab678868",
   "metadata": {},
   "source": [
    "После создается скрытая папка .git"
   ]
  },
  {
   "cell_type": "markdown",
   "id": "b47d608b",
   "metadata": {},
   "source": [
    "**Проверка Git**"
   ]
  },
  {
   "cell_type": "markdown",
   "id": "313460f6",
   "metadata": {},
   "source": [
    "Команда git status отображает состояние рабочего каталога и раздела проиндексированных файлов"
   ]
  },
  {
   "cell_type": "markdown",
   "id": "e0db8eff",
   "metadata": {},
   "source": [
    "`PS C:\\Users\\dmitr\\PycharmProjects\\Git_Example_0> git status`"
   ]
  },
  {
   "cell_type": "markdown",
   "id": "67c5c98e",
   "metadata": {},
   "source": [
    "Файлы, за которыми не следит Git\\\n",
    "Untracked files:\\\n",
    "  (use \"git add <file>...\" to include in what will be committed)\\\n",
    "        ..."
   ]
  },
  {
   "cell_type": "markdown",
   "id": "e25850ba",
   "metadata": {},
   "source": [
    "**Добавить файл, за которым будет следить Git**"
   ]
  },
  {
   "cell_type": "markdown",
   "id": "1ca38ada",
   "metadata": {},
   "source": [
    "`PS C:\\Users\\dmitr\\PycharmProjects\\Git_Example_0> git add .\\main.py`"
   ]
  },
  {
   "cell_type": "markdown",
   "id": "484aa35b",
   "metadata": {},
   "source": [
    "**Перестать следить за файлом**"
   ]
  },
  {
   "cell_type": "markdown",
   "id": "160ab910",
   "metadata": {},
   "source": [
    "`PS C:\\Users\\dmitr\\PycharmProjects\\Git_Example_0> get rm --cached .\\main.py`"
   ]
  },
  {
   "cell_type": "markdown",
   "id": "cb0df988",
   "metadata": {},
   "source": []
  },
  {
   "cell_type": "markdown",
   "id": "60f078d7",
   "metadata": {},
   "source": [
    "`PS C:\\Users\\dmitr\\PycharmProjects\\Git_Example_0> git commit -m \"first commit\"`"
   ]
  },
  {
   "cell_type": "markdown",
   "id": "66599488",
   "metadata": {},
   "source": [
    "**Удалить файлы с определенным расширением**"
   ]
  },
  {
   "cell_type": "markdown",
   "id": "418134a8",
   "metadata": {},
   "source": [
    "git rm Documentation/\\*.txt — хороший пример удаления из документации к git,\\\n",
    "удаляются сразу все файлы txt из папки."
   ]
  },
  {
   "cell_type": "markdown",
   "id": "8a761bc4",
   "metadata": {},
   "source": [
    "**Игнорирование файлов**"
   ]
  },
  {
   "cell_type": "markdown",
   "id": "d019f8ae",
   "metadata": {},
   "source": [
    "Этот файл нужно положить в корень проекта для игнорирования "
   ]
  },
  {
   "cell_type": "markdown",
   "id": "88a34d51",
   "metadata": {},
   "source": [
    "`.gitignore`"
   ]
  },
  {
   "cell_type": "code",
   "execution_count": null,
   "id": "5fc84f47",
   "metadata": {},
   "outputs": [],
   "source": []
  },
  {
   "cell_type": "code",
   "execution_count": null,
   "id": "a8f0dc58",
   "metadata": {},
   "outputs": [],
   "source": []
  },
  {
   "cell_type": "code",
   "execution_count": null,
   "id": "f1a937df",
   "metadata": {},
   "outputs": [],
   "source": []
  },
  {
   "cell_type": "code",
   "execution_count": null,
   "id": "ca5552c8",
   "metadata": {},
   "outputs": [],
   "source": []
  },
  {
   "cell_type": "code",
   "execution_count": null,
   "id": "ec9f55af",
   "metadata": {},
   "outputs": [],
   "source": []
  },
  {
   "cell_type": "code",
   "execution_count": null,
   "id": "d4721593",
   "metadata": {},
   "outputs": [],
   "source": []
  },
  {
   "cell_type": "code",
   "execution_count": null,
   "id": "994d7c26",
   "metadata": {},
   "outputs": [],
   "source": [
    "\n",
    "\n",
    "\n",
    "\n",
    "\n",
    "\n",
    "\n",
    "\n",
    "\n",
    "\n",
    "\n",
    "\n",
    "\n",
    "\n",
    "\n",
    "\n",
    "\n",
    "\n",
    "\n",
    "\n",
    "\n",
    "\n",
    "\n",
    "\n",
    "\n",
    "\n",
    "\n",
    "\n",
    "\n"
   ]
  }
 ],
 "metadata": {
  "kernelspec": {
   "display_name": "Python 3 (ipykernel)",
   "language": "python",
   "name": "python3"
  },
  "language_info": {
   "codemirror_mode": {
    "name": "ipython",
    "version": 3
   },
   "file_extension": ".py",
   "mimetype": "text/x-python",
   "name": "python",
   "nbconvert_exporter": "python",
   "pygments_lexer": "ipython3",
   "version": "3.10.0"
  }
 },
 "nbformat": 4,
 "nbformat_minor": 5
}
