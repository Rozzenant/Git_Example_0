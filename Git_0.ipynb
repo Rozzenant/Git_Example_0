{
 "cells": [
  {
   "cell_type": "markdown",
   "id": "12728f54",
   "metadata": {},
   "source": [
    "# Работа с Git"
   ]
  },
  {
   "cell_type": "markdown",
   "id": "df6cd475",
   "metadata": {},
   "source": [
    "**Инициализация Git**"
   ]
  },
  {
   "cell_type": "markdown",
   "id": "50a5772c",
   "metadata": {},
   "source": [
    "`PS C:\\Users\\dmitr\\PycharmProjects\\Git_Example_0> git init`"
   ]
  },
  {
   "cell_type": "markdown",
   "id": "afc9362d",
   "metadata": {},
   "source": [
    "После создается скрытая папка .git"
   ]
  },
  {
   "cell_type": "markdown",
   "id": "a65ed6c7",
   "metadata": {},
   "source": [
    "**Проверка Git**"
   ]
  },
  {
   "cell_type": "markdown",
   "id": "fea64311",
   "metadata": {},
   "source": [
    "Команда git status отображает состояние рабочего каталога и раздела проиндексированных файлов"
   ]
  },
  {
   "cell_type": "markdown",
   "id": "6568cfa7",
   "metadata": {},
   "source": [
    "`PS C:\\Users\\dmitr\\PycharmProjects\\Git_Example_0> git status`"
   ]
  },
  {
   "cell_type": "markdown",
   "id": "1191ac38",
   "metadata": {},
   "source": [
    "Файлы, за которыми не следит Git\\\n",
    "Untracked files:\\\n",
    "  (use \"git add <file>...\" to include in what will be committed)\\\n",
    "        ..."
   ]
  },
  {
   "cell_type": "markdown",
   "id": "f0dc5b13",
   "metadata": {},
   "source": [
    "**Добавить файл, за которым будет следить Git**"
   ]
  },
  {
   "cell_type": "markdown",
   "id": "865de6af",
   "metadata": {},
   "source": [
    "`PS C:\\Users\\dmitr\\PycharmProjects\\Git_Example_0> git add .\\main.py`"
   ]
  },
  {
   "cell_type": "markdown",
   "id": "c8883a43",
   "metadata": {},
   "source": [
    "**Перестать следить за файлом**"
   ]
  },
  {
   "cell_type": "markdown",
   "id": "f8a3ec20",
   "metadata": {},
   "source": [
    "`PS C:\\Users\\dmitr\\PycharmProjects\\Git_Example_0> git rm --cached .\\main.py`"
   ]
  },
  {
   "cell_type": "markdown",
   "id": "fa777f61",
   "metadata": {},
   "source": [
    "**Создание версий**"
   ]
  },
  {
   "cell_type": "markdown",
   "id": "23c025c3",
   "metadata": {},
   "source": [
    "`PS C:\\Users\\dmitr\\PycharmProjects\\Git_Example_0> git commit -m \"first commit\"`"
   ]
  },
  {
   "cell_type": "markdown",
   "id": "a64e20ef",
   "metadata": {},
   "source": [
    "**Удалить файлы с определенным расширением**"
   ]
  },
  {
   "cell_type": "markdown",
   "id": "13ea0938",
   "metadata": {},
   "source": [
    "`git rm Documentation/\\*.txt` — хороший пример удаления из документации к git,\\\n",
    "удаляются сразу все файлы txt из папки."
   ]
  },
  {
   "cell_type": "markdown",
   "id": "7e8b35cc",
   "metadata": {},
   "source": [
    "**Игнорирование файлов**"
   ]
  },
  {
   "cell_type": "markdown",
   "id": "58ef5fa5",
   "metadata": {},
   "source": [
    "Этот файл нужно положить в корень проекта для игнорирования, в него вписываются названия файлов, которые не нужно записывать\\\n",
    "в git"
   ]
  },
  {
   "cell_type": "markdown",
   "id": "7d060dd1",
   "metadata": {},
   "source": [
    "`.gitignore`"
   ]
  },
  {
   "cell_type": "markdown",
   "id": "3f9d76ea",
   "metadata": {},
   "source": [
    "**Получить ветку, в которой мы сейчас находимся**"
   ]
  },
  {
   "cell_type": "markdown",
   "id": "fa9e5f61",
   "metadata": {},
   "source": [
    "`PS C:\\Users\\dmitr\\PycharmProjects\\Git_Example_0> git branch`"
   ]
  },
  {
   "cell_type": "markdown",
   "id": "c156504c",
   "metadata": {},
   "source": [
    "**Создать новую ветку**"
   ]
  },
  {
   "cell_type": "markdown",
   "id": "81283397",
   "metadata": {},
   "source": [
    "`PS C:\\Users\\dmitr\\PycharmProjects\\Git_Example_0> git branch Figures`"
   ]
  },
  {
   "cell_type": "markdown",
   "id": "a8a95b58",
   "metadata": {},
   "source": [
    "**Удалить ветку**"
   ]
  },
  {
   "cell_type": "markdown",
   "id": "4a1c1a1c",
   "metadata": {},
   "source": [
    "`PS C:\\Users\\dmitr\\PycharmProjects\\Git_Example_0> git branch -D Figures`"
   ]
  },
  {
   "cell_type": "markdown",
   "id": "9a8c13c9",
   "metadata": {},
   "source": [
    "**Переключиться на другую ветку**"
   ]
  },
  {
   "cell_type": "markdown",
   "id": "aeb2a8c4",
   "metadata": {},
   "source": [
    "`PS C:\\Users\\dmitr\\PycharmProjects\\Git_Example_0> git checkout Figures`"
   ]
  },
  {
   "cell_type": "markdown",
   "id": "0d8f3fdf",
   "metadata": {},
   "source": [
    "**Создать и переключиться на новую ветку**"
   ]
  },
  {
   "cell_type": "markdown",
   "id": "2381322b",
   "metadata": {},
   "source": [
    "`PS C:\\Users\\dmitr\\PycharmProjects\\Git_Example_0> git checkout -b Test`"
   ]
  },
  {
   "cell_type": "markdown",
   "id": "3d4c74c1",
   "metadata": {},
   "source": [
    "При переключении веток меняются и файлы, которые за ними закреплены"
   ]
  },
  {
   "cell_type": "markdown",
   "id": "4787c22f",
   "metadata": {},
   "source": [
    "**Объединить ветки**"
   ]
  },
  {
   "cell_type": "markdown",
   "id": "86c7ddfa",
   "metadata": {},
   "source": [
    "`PS C:\\Users\\dmitr\\PycharmProjects\\Git_Example_0> git merge readme`"
   ]
  },
  {
   "cell_type": "markdown",
   "id": "367701f9",
   "metadata": {},
   "source": [
    "**Изменить имя, email для Git** "
   ]
  },
  {
   "cell_type": "markdown",
   "id": "772786da",
   "metadata": {},
   "source": [
    "`PS C:\\Users\\dmitr\\PycharmProjects\\Git_Example_0> git config --global user.name`"
   ]
  },
  {
   "cell_type": "markdown",
   "id": "e23d5da8",
   "metadata": {},
   "source": [
    "` PS C:\\Users\\dmitr\\PycharmProjects\\Git_Example_0> git config --global user.email`"
   ]
  },
  {
   "cell_type": "markdown",
   "id": "e02b8c60",
   "metadata": {},
   "source": [
    "` PS C:\\Users\\dmitr\\PycharmProjects\\Git_Example_0> git config --global user.email \"dima@ya.ru\"`"
   ]
  },
  {
   "cell_type": "markdown",
   "id": "81e46428",
   "metadata": {},
   "source": [
    "**Поменять имя ветви**"
   ]
  },
  {
   "cell_type": "markdown",
   "id": "abb14b8f",
   "metadata": {},
   "source": [
    "`git branch -M main`"
   ]
  },
  {
   "cell_type": "markdown",
   "id": "b2b64a15",
   "metadata": {},
   "source": [
    "**Добавить проект в репозиторий**"
   ]
  },
  {
   "cell_type": "markdown",
   "id": "92586657",
   "metadata": {},
   "source": [
    "`git remote add origin https://github.com/Rozzenant/Git_Example_0.git`"
   ]
  },
  {
   "cell_type": "markdown",
   "id": "6d37101b",
   "metadata": {},
   "source": [
    "**Запушить проект в сам GitHub**"
   ]
  },
  {
   "cell_type": "markdown",
   "id": "8f98ce96",
   "metadata": {},
   "source": [
    "`git push -u origin main`"
   ]
  }
 ],
 "metadata": {
  "kernelspec": {
   "display_name": "Python 3 (ipykernel)",
   "language": "python",
   "name": "python3"
  },
  "language_info": {
   "codemirror_mode": {
    "name": "ipython",
    "version": 3
   },
   "file_extension": ".py",
   "mimetype": "text/x-python",
   "name": "python",
   "nbconvert_exporter": "python",
   "pygments_lexer": "ipython3",
   "version": "3.10.0"
  }
 },
 "nbformat": 4,
 "nbformat_minor": 5
}
