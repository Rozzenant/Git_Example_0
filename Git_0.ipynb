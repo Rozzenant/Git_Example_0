{
 "cells": [
  {
   "cell_type": "markdown",
   "id": "e78a5bb6",
   "metadata": {},
   "source": [
    "# Работа с Git"
   ]
  },
  {
   "cell_type": "markdown",
   "id": "75890a1f",
   "metadata": {},
   "source": [
    "**Инициализация Git**"
   ]
  },
  {
   "cell_type": "markdown",
   "id": "c4774448",
   "metadata": {},
   "source": [
    "`PS C:\\Users\\dmitr\\PycharmProjects\\Git_Example_0> git init`"
   ]
  },
  {
   "cell_type": "markdown",
   "id": "b12a6543",
   "metadata": {},
   "source": [
    "После создается скрытая папка .git"
   ]
  },
  {
   "cell_type": "markdown",
   "id": "08d76fc6",
   "metadata": {},
   "source": [
    "**Проверка Git**"
   ]
  },
  {
   "cell_type": "markdown",
   "id": "96a095d6",
   "metadata": {},
   "source": [
    "Команда git status отображает состояние рабочего каталога и раздела проиндексированных файлов"
   ]
  },
  {
   "cell_type": "markdown",
   "id": "402ec2bc",
   "metadata": {},
   "source": [
    "`PS C:\\Users\\dmitr\\PycharmProjects\\Git_Example_0> git status`"
   ]
  },
  {
   "cell_type": "markdown",
   "id": "7b227dcb",
   "metadata": {},
   "source": [
    "Файлы, за которыми не следит Git\\\n",
    "Untracked files:\\\n",
    "  (use \"git add <file>...\" to include in what will be committed)\\\n",
    "        ..."
   ]
  },
  {
   "cell_type": "markdown",
   "id": "8d7dccb0",
   "metadata": {},
   "source": [
    "**Добавить файл, за которым будет следить Git**"
   ]
  },
  {
   "cell_type": "markdown",
   "id": "7f2df0b6",
   "metadata": {},
   "source": [
    "`PS C:\\Users\\dmitr\\PycharmProjects\\Git_Example_0> git add .\\main.py`"
   ]
  },
  {
   "cell_type": "markdown",
   "id": "fd7208d1",
   "metadata": {},
   "source": [
    "**Перестать следить за файлом**"
   ]
  },
  {
   "cell_type": "markdown",
   "id": "f9d82649",
   "metadata": {},
   "source": [
    "`PS C:\\Users\\dmitr\\PycharmProjects\\Git_Example_0> git rm --cached .\\main.py`"
   ]
  },
  {
   "cell_type": "markdown",
   "id": "66b19224",
   "metadata": {},
   "source": [
    "**Создание версий**"
   ]
  },
  {
   "cell_type": "markdown",
   "id": "f737e711",
   "metadata": {},
   "source": [
    "`PS C:\\Users\\dmitr\\PycharmProjects\\Git_Example_0> git commit -m \"first commit\"`"
   ]
  },
  {
   "cell_type": "markdown",
   "id": "4525349c",
   "metadata": {},
   "source": [
    "**Удалить файлы с определенным расширением**"
   ]
  },
  {
   "cell_type": "markdown",
   "id": "edcfe72c",
   "metadata": {},
   "source": [
    "`git rm Documentation/\\*.txt` — хороший пример удаления из документации к git,\\\n",
    "удаляются сразу все файлы txt из папки."
   ]
  },
  {
   "cell_type": "markdown",
   "id": "eff265d2",
   "metadata": {},
   "source": [
    "**Игнорирование файлов**"
   ]
  },
  {
   "cell_type": "markdown",
   "id": "03051c2f",
   "metadata": {},
   "source": [
    "Этот файл нужно положить в корень проекта для игнорирования, в него вписываются названия файлов, которые не нужно записывать\\\n",
    "в git"
   ]
  },
  {
   "cell_type": "markdown",
   "id": "f7827715",
   "metadata": {},
   "source": [
    "`.gitignore`"
   ]
  },
  {
   "cell_type": "markdown",
   "id": "042be486",
   "metadata": {},
   "source": [
    "**Получить ветку, в которой мы сейчас находимся**"
   ]
  },
  {
   "cell_type": "markdown",
   "id": "8c965a25",
   "metadata": {},
   "source": [
    "`PS C:\\Users\\dmitr\\PycharmProjects\\Git_Example_0> git branch`"
   ]
  },
  {
   "cell_type": "markdown",
   "id": "689a3451",
   "metadata": {},
   "source": [
    "**Создать новую ветку**"
   ]
  },
  {
   "cell_type": "markdown",
   "id": "4eabe9a6",
   "metadata": {},
   "source": [
    "`PS C:\\Users\\dmitr\\PycharmProjects\\Git_Example_0> git branch Figures`"
   ]
  },
  {
   "cell_type": "markdown",
   "id": "9246385f",
   "metadata": {},
   "source": [
    "**Удалить ветку**"
   ]
  },
  {
   "cell_type": "markdown",
   "id": "37a9d057",
   "metadata": {},
   "source": [
    "`PS C:\\Users\\dmitr\\PycharmProjects\\Git_Example_0> git branch -D Figures`"
   ]
  },
  {
   "cell_type": "markdown",
   "id": "3d4b0ca3",
   "metadata": {},
   "source": [
    "**Переключиться на другую ветку**"
   ]
  },
  {
   "cell_type": "markdown",
   "id": "27e19f6b",
   "metadata": {},
   "source": [
    "`PS C:\\Users\\dmitr\\PycharmProjects\\Git_Example_0> git checkout Figures`"
   ]
  },
  {
   "cell_type": "markdown",
   "id": "4a6c1a8e",
   "metadata": {},
   "source": [
    "**Создать и переключиться на новую ветку**"
   ]
  },
  {
   "cell_type": "markdown",
   "id": "ab0210b6",
   "metadata": {},
   "source": [
    "`PS C:\\Users\\dmitr\\PycharmProjects\\Git_Example_0> git checkout -b Test`"
   ]
  },
  {
   "cell_type": "markdown",
   "id": "3f0f97f6",
   "metadata": {},
   "source": [
    "При переключении веток меняются и файлы, которые за ними закреплены"
   ]
  },
  {
   "cell_type": "markdown",
   "id": "b1424087",
   "metadata": {},
   "source": [
    "**Объединить ветки**"
   ]
  },
  {
   "cell_type": "markdown",
   "id": "33c64dfb",
   "metadata": {},
   "source": [
    "`PS C:\\Users\\dmitr\\PycharmProjects\\Git_Example_0> git merge readme`"
   ]
  },
  {
   "cell_type": "markdown",
   "id": "7888c471",
   "metadata": {},
   "source": [
    "**Изменить имя, email для Git** "
   ]
  },
  {
   "cell_type": "markdown",
   "id": "62e5ed81",
   "metadata": {},
   "source": [
    "`PS C:\\Users\\dmitr\\PycharmProjects\\Git_Example_0> git config --global user.name`"
   ]
  },
  {
   "cell_type": "markdown",
   "id": "4630d7b9",
   "metadata": {},
   "source": [
    "` PS C:\\Users\\dmitr\\PycharmProjects\\Git_Example_0> git config --global user.email`"
   ]
  },
  {
   "cell_type": "markdown",
   "id": "6a5cd3f2",
   "metadata": {},
   "source": [
    "` PS C:\\Users\\dmitr\\PycharmProjects\\Git_Example_0> git config --global user.email \"dima@ya.ru\"`"
   ]
  },
  {
   "cell_type": "markdown",
   "id": "10db6bc3",
   "metadata": {},
   "source": [
    "**Добавить проект в репозиторий**"
   ]
  },
  {
   "cell_type": "markdown",
   "id": "c3a83d5e",
   "metadata": {},
   "source": [
    "`git remote add origin https://github.com/Rozzenant/Git_Example_0.git`"
   ]
  },
  {
   "cell_type": "markdown",
   "id": "83e77d03",
   "metadata": {},
   "source": [
    "**Запушить проект в сам GitHub**"
   ]
  },
  {
   "cell_type": "markdown",
   "id": "cf5e6fb0",
   "metadata": {},
   "source": [
    "`git push -u origin main`"
   ]
  }
 ],
 "metadata": {
  "kernelspec": {
   "display_name": "Python 3 (ipykernel)",
   "language": "python",
   "name": "python3"
  },
  "language_info": {
   "codemirror_mode": {
    "name": "ipython",
    "version": 3
   },
   "file_extension": ".py",
   "mimetype": "text/x-python",
   "name": "python",
   "nbconvert_exporter": "python",
   "pygments_lexer": "ipython3",
   "version": "3.10.0"
  }
 },
 "nbformat": 4,
 "nbformat_minor": 5
}
