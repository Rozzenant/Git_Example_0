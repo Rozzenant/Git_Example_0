{
 "cells": [
  {
   "cell_type": "markdown",
   "id": "7608f328",
   "metadata": {},
   "source": [
    "# Работа с Git"
   ]
  },
  {
   "cell_type": "markdown",
   "id": "6cc4de8f",
   "metadata": {},
   "source": [
    "**Инициализация Git**"
   ]
  },
  {
   "cell_type": "markdown",
   "id": "5f2452e4",
   "metadata": {},
   "source": [
    "`PS C:\\Users\\dmitr\\PycharmProjects\\Git_Example_0> git init`"
   ]
  },
  {
   "cell_type": "markdown",
   "id": "5ab75b26",
   "metadata": {},
   "source": [
    "После создается скрытая папка .git"
   ]
  },
  {
   "cell_type": "markdown",
   "id": "34fd6ea9",
   "metadata": {},
   "source": [
    "**Проверка Git**"
   ]
  },
  {
   "cell_type": "markdown",
   "id": "4b291a9c",
   "metadata": {},
   "source": [
    "Команда git status отображает состояние рабочего каталога и раздела проиндексированных файлов"
   ]
  },
  {
   "cell_type": "markdown",
   "id": "81d22f3b",
   "metadata": {},
   "source": [
    "`PS C:\\Users\\dmitr\\PycharmProjects\\Git_Example_0> git status`"
   ]
  },
  {
   "cell_type": "markdown",
   "id": "35083a04",
   "metadata": {},
   "source": [
    "Файлы, за которыми не следит Git\\\n",
    "Untracked files:\\\n",
    "  (use \"git add <file>...\" to include in what will be committed)\\\n",
    "        ..."
   ]
  },
  {
   "cell_type": "markdown",
   "id": "70ee877d",
   "metadata": {},
   "source": [
    "**Добавить файл, за которым будет следить Git**"
   ]
  },
  {
   "cell_type": "markdown",
   "id": "a1a0196b",
   "metadata": {},
   "source": [
    "`PS C:\\Users\\dmitr\\PycharmProjects\\Git_Example_0> git add .\\main.py`"
   ]
  },
  {
   "cell_type": "markdown",
   "id": "0aa68532",
   "metadata": {},
   "source": [
    "**Перестать следить за файлом**"
   ]
  },
  {
   "cell_type": "markdown",
   "id": "b8e8fd3f",
   "metadata": {},
   "source": [
    "`PS C:\\Users\\dmitr\\PycharmProjects\\Git_Example_0> get rm --cached .\\main.py`"
   ]
  },
  {
   "cell_type": "code",
   "execution_count": null,
   "id": "ee0b4965",
   "metadata": {},
   "outputs": [],
   "source": []
  },
  {
   "cell_type": "code",
   "execution_count": null,
   "id": "96a11392",
   "metadata": {},
   "outputs": [],
   "source": []
  },
  {
   "cell_type": "code",
   "execution_count": null,
   "id": "6e6caa33",
   "metadata": {},
   "outputs": [],
   "source": []
  },
  {
   "cell_type": "code",
   "execution_count": null,
   "id": "ab264919",
   "metadata": {},
   "outputs": [],
   "source": []
  },
  {
   "cell_type": "code",
   "execution_count": null,
   "id": "08d13f09",
   "metadata": {},
   "outputs": [],
   "source": [
    "\n",
    "\n",
    "\n",
    "\n",
    "\n",
    "\n",
    "\n",
    "\n",
    "\n",
    "\n",
    "\n",
    "\n",
    "\n",
    "\n",
    "\n",
    "\n",
    "\n",
    "\n",
    "\n",
    "\n",
    "\n",
    "\n",
    "\n",
    "\n",
    "\n",
    "\n",
    "\n",
    "\n",
    "\n"
   ]
  }
 ],
 "metadata": {
  "kernelspec": {
   "display_name": "Python 3 (ipykernel)",
   "language": "python",
   "name": "python3"
  },
  "language_info": {
   "codemirror_mode": {
    "name": "ipython",
    "version": 3
   },
   "file_extension": ".py",
   "mimetype": "text/x-python",
   "name": "python",
   "nbconvert_exporter": "python",
   "pygments_lexer": "ipython3",
   "version": "3.10.0"
  }
 },
 "nbformat": 4,
 "nbformat_minor": 5
}
